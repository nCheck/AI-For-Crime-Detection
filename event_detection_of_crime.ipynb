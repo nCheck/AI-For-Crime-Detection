{
  "nbformat": 4,
  "nbformat_minor": 0,
  "metadata": {
    "colab": {
      "name": "event detection of crime",
      "provenance": [],
      "collapsed_sections": []
    },
    "kernelspec": {
      "name": "python3",
      "display_name": "Python 3"
    },
    "accelerator": "GPU"
  },
  "cells": [
    {
      "cell_type": "code",
      "metadata": {
        "id": "_lqKRkYZik1y",
        "colab_type": "code",
        "colab": {}
      },
      "source": [
        "import numpy as np\n",
        "import pickle\n",
        "import cv2\n",
        "from os import listdir\n",
        "from sklearn.preprocessing import LabelBinarizer\n",
        "import tensorflow as tf\n",
        "from tensorflow.python import keras"
      ],
      "execution_count": 0,
      "outputs": []
    },
    {
      "cell_type": "code",
      "metadata": {
        "id": "HbIcRffUjdX2",
        "colab_type": "code",
        "outputId": "45437ded-c59b-46ab-87c7-cb999dbf9bab",
        "colab": {
          "base_uri": "https://localhost:8080/",
          "height": 124
        }
      },
      "source": [
        "# Load the Drive helper and mount\n",
        "from google.colab import drive\n",
        "\n",
        "# This will prompt for authorization.\n",
        "drive.mount('/content/drive')\n",
        "#4/EAHvxOwTUUc5P4f054p_XPb6LUtIp67TjDF6lZaN8qOKZAuMbtL9Fow"
      ],
      "execution_count": 0,
      "outputs": [
        {
          "output_type": "stream",
          "text": [
            "Go to this URL in a browser: https://accounts.google.com/o/oauth2/auth?client_id=947318989803-6bn6qk8qdgf4n4g3pfee6491hc0brc4i.apps.googleusercontent.com&redirect_uri=urn%3Aietf%3Awg%3Aoauth%3A2.0%3Aoob&scope=email%20https%3A%2F%2Fwww.googleapis.com%2Fauth%2Fdocs.test%20https%3A%2F%2Fwww.googleapis.com%2Fauth%2Fdrive%20https%3A%2F%2Fwww.googleapis.com%2Fauth%2Fdrive.photos.readonly%20https%3A%2F%2Fwww.googleapis.com%2Fauth%2Fpeopleapi.readonly&response_type=code\n",
            "\n",
            "Enter your authorization code:\n",
            "··········\n",
            "Mounted at /content/drive\n"
          ],
          "name": "stdout"
        }
      ]
    },
    {
      "cell_type": "code",
      "metadata": {
        "id": "FgJ1LJ4NnRt_",
        "colab_type": "code",
        "colab": {}
      },
      "source": [
        "!unzip \"/content/drive/My Drive/BEPROJ/dataset/c3d_train/c3d.zip\"\n",
        "!ls Anomaly -l | egrep -c '^-'"
      ],
      "execution_count": 0,
      "outputs": []
    },
    {
      "cell_type": "code",
      "metadata": {
        "id": "ZFxJuJ6Geq_q",
        "colab_type": "code",
        "colab": {}
      },
      "source": [
        "import csv\n",
        "import configparser\n",
        "import collections\n",
        "import time\n",
        "import csv\n",
        "import os\n",
        "from os import listdir\n",
        "import skimage.transform\n",
        "from skimage import color\n",
        "from os.path import isfile, join\n",
        "import numpy as np\n",
        "import numpy\n",
        "from datetime import datetime\n",
        "from os.path import basename\n",
        "import glob\n",
        "import matplotlib.pyplot as plt\n",
        "from IPython.display import clear_output\n",
        "import math"
      ],
      "execution_count": 0,
      "outputs": []
    },
    {
      "cell_type": "code",
      "metadata": {
        "id": "9pDn4Z_3AhOc",
        "colab_type": "code",
        "colab": {}
      },
      "source": [
        "# count = 0\n",
        "# image_list, label_list = [], []\n",
        "\n",
        "# Load Training Dataset and label training videos\n",
        "import re \n",
        "\n",
        "def get_name(name):\n",
        "  pattern = '[0-9]'\n",
        "  return re.sub(pattern, '', name)\n",
        "\n",
        "def load_dataset_Train_batch(AbnormalPath):\n",
        "\n",
        "    batchsize=30            # Each batch contain 30 videos.\n",
        "    n_exp=int(batchsize/2)  # 15 normal and 15 road accident videos\n",
        "\n",
        "    Num_abnormal = 144  # number of road accident videos in Training set.\n",
        "\n",
        "\n",
        "    # We assume the features of abnormal videos and normal videos are located in two different folders.\n",
        "    Abnor_list_iter = np.random.permutation(Num_abnormal)\n",
        "    # Abnor_list_iter = Abnor_list_iter[Num_abnormal-n_exp:] # Indexes for randomly selected Abnormal Videos\n",
        "\n",
        "    AllVideos_Path = AbnormalPath\n",
        "    def listdir_nohidden(AllVideos_Path):  # To ignore hidden files\n",
        "        file_dir_extension = os.path.join(AllVideos_Path, '*_C.txt')\n",
        "        for f in glob.glob(file_dir_extension):\n",
        "            if not f.startswith('.'):\n",
        "                yield os.path.basename(f)\n",
        "\n",
        "    All_Videos=sorted(listdir_nohidden(AllVideos_Path))\n",
        "    All_Videos.sort()\n",
        "    AllFeatures = []  # To store C3D features of a batch\n",
        "    print(\"Loading Abnormal videos Features...\")\n",
        "\n",
        "    Video_count=-1\n",
        "    VideoLabels = []\n",
        "    temp = \"\"\n",
        "    ###################### READ RANDOMLY ABNORMAL FEATURE 32x512 #################\n",
        "    for iv in Abnor_list_iter:\n",
        "        Video_count=Video_count+1\n",
        "        VideoPath = os.path.join(AllVideos_Path, All_Videos[iv])\n",
        "        temp = VideoPath.split('/')[1].split('_')[0]\n",
        "        events = [get_name(temp) for _ in range(32)]\n",
        "        VideoLabels.extend(events)\n",
        "        f = open(VideoPath, \"r\")\n",
        "        words = f.read().split()\n",
        "        num_feat = int(len(words) / 512)\n",
        "\n",
        "        # Number of features per video to be loaded.\n",
        "        # In our case num_feat=32, as we divide the video into 32 segments. \n",
        "\n",
        "        count = -1;\n",
        "        VideoFeatues = []\n",
        "        \n",
        "        for feat in range(0, num_feat):\n",
        "            feat_row1 = np.float32(words[feat * 512:feat * 512 + 512])\n",
        "            count = count + 1\n",
        "            if count == 0:\n",
        "                VideoFeatues = feat_row1\n",
        "            if count > 0:\n",
        "                VideoFeatues = np.vstack((VideoFeatues, feat_row1))\n",
        "\n",
        "        if Video_count == 0:\n",
        "            AllFeatures = VideoFeatues\n",
        "        if Video_count > 0:\n",
        "            AllFeatures = np.vstack((AllFeatures, VideoFeatues))\n",
        "\n",
        "    return AllFeatures,VideoLabels\n"
      ],
      "execution_count": 0,
      "outputs": []
    },
    {
      "cell_type": "code",
      "metadata": {
        "id": "8vBS8VBPAhSl",
        "colab_type": "code",
        "outputId": "8d9995a1-ab3e-413c-cd7d-dc5370da7840",
        "colab": {
          "base_uri": "https://localhost:8080/",
          "height": 52
        }
      },
      "source": [
        "AbnormalPath = os.path.join('Anomaly/')  # Path of abnormal already computed C3D features\n",
        "image_list,  label_list =load_dataset_Train_batch(AbnormalPath)  # Load normal and abnormal video C3D features"
      ],
      "execution_count": 0,
      "outputs": [
        {
          "output_type": "stream",
          "text": [
            "Loading Abnormal videos Features...\n",
            "Explosion018\n"
          ],
          "name": "stdout"
        }
      ]
    },
    {
      "cell_type": "code",
      "metadata": {
        "id": "w0iUFzSwik2p",
        "colab_type": "code",
        "colab": {}
      },
      "source": [
        "image_size = len(image_list)\n",
        "label_binarizer = LabelBinarizer()\n",
        "image_labels = label_binarizer.fit_transform(label_list)\n",
        "# pickle.dump(label_binarizer,open('label_transform.pkl', 'wb'))\n",
        "n_classes = len(label_binarizer.classes_)"
      ],
      "execution_count": 0,
      "outputs": []
    },
    {
      "cell_type": "code",
      "metadata": {
        "id": "hkal59KQik25",
        "colab_type": "code",
        "outputId": "177ca200-6930-450f-bdcb-f7333672c003",
        "colab": {
          "base_uri": "https://localhost:8080/",
          "height": 34
        }
      },
      "source": [
        "np_image_list = np.array(image_list, dtype=np.float16) / 225.0\n",
        "np_image_list.shape"
      ],
      "execution_count": 0,
      "outputs": [
        {
          "output_type": "execute_result",
          "data": {
            "text/plain": [
              "(4608, 512)"
            ]
          },
          "metadata": {
            "tags": []
          },
          "execution_count": 84
        }
      ]
    },
    {
      "cell_type": "code",
      "metadata": {
        "id": "Rd4K5Vm-ik3J",
        "colab_type": "code",
        "outputId": "609a79dc-9b51-437e-f57c-7d7ef32d3983",
        "colab": {
          "base_uri": "https://localhost:8080/",
          "height": 34
        }
      },
      "source": [
        "print(\"[INFO] Spliting data to train, test\")\n",
        "x_train, x_test, y_train, y_test = train_test_split(np_image_list, image_labels, test_size=0.35, random_state = 2) "
      ],
      "execution_count": 0,
      "outputs": [
        {
          "output_type": "stream",
          "text": [
            "[INFO] Spliting data to train, test\n"
          ],
          "name": "stdout"
        }
      ]
    },
    {
      "cell_type": "code",
      "metadata": {
        "id": "R9YZ5dCmik3b",
        "colab_type": "code",
        "outputId": "d4afdd4b-36b3-4570-b32d-af2065f8bc3f",
        "colab": {
          "base_uri": "https://localhost:8080/",
          "height": 34
        }
      },
      "source": [
        "from sklearn.tree import DecisionTreeClassifier\n",
        "clf = DecisionTreeClassifier(random_state=0)\n",
        "clf.fit(x_train, y_train)\n",
        "\n",
        "print(\"Accuracy: \", clf.score(x_test,y_test))"
      ],
      "execution_count": 0,
      "outputs": [
        {
          "output_type": "stream",
          "text": [
            "Accuracy:  0.7947923124612524\n"
          ],
          "name": "stdout"
        }
      ]
    },
    {
      "cell_type": "code",
      "metadata": {
        "id": "zimlwc5GHScY",
        "colab_type": "code",
        "outputId": "bc7f2430-a8f6-4ca7-a995-18a2be341bec",
        "colab": {
          "base_uri": "https://localhost:8080/",
          "height": 34
        }
      },
      "source": [
        "from sklearn.neighbors import KNeighborsClassifier\n",
        "neigh = KNeighborsClassifier(n_neighbors=3)\n",
        "neigh.fit(x_train, y_train)\n",
        "print(\"Accuracy: \", neigh.score(x_test,y_test))"
      ],
      "execution_count": 0,
      "outputs": [
        {
          "output_type": "stream",
          "text": [
            "Accuracy:  0.9869807811531308\n"
          ],
          "name": "stdout"
        }
      ]
    },
    {
      "cell_type": "code",
      "metadata": {
        "id": "EMzpXjctHfeY",
        "colab_type": "code",
        "outputId": "fcbca085-fdc0-4b87-dd97-067d66c2df7b",
        "colab": {
          "base_uri": "https://localhost:8080/",
          "height": 34
        }
      },
      "source": [
        ""
      ],
      "execution_count": 0,
      "outputs": [
        {
          "output_type": "stream",
          "text": [
            "Accuracy:  0.10477371357718537\n"
          ],
          "name": "stdout"
        }
      ]
    }
  ]
}